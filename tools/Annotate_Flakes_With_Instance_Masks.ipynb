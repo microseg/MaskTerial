{
 "cells": [
  {
   "cell_type": "markdown",
   "metadata": {},
   "source": [
    "# Annotate Flakes With Instance Masks\n",
    "\n",
    "This notebook is used to annotate all flakes in a given directory of images by clicking on them using the annotator.  \n",
    "Once this is done you can annotate the classes using the `Convert_Instance_Masks_to_Semantic_Masks.ipynb` notebook where you can define the classes based on the contrast of flakes to the background.\n",
    "\n",
    "## Annotating the Images in the Folder\n",
    "\n",
    "The annotator uses the watershed algorithm to discern the foreground from the background.  \n",
    "It is only necessary to define these two classes as the thickness is inferred later by the clustering.\n",
    "\n",
    "A red outline is shown between the background and foreground indicating the mask boundry.\n",
    "\n",
    "The Masks are saved as `.png` files in the `MASK_SAVE_DIRECTORY` Folder with the same name as the image.\n",
    "\n",
    "### Controls\n",
    "\n",
    "|            Keys             | Description                                                  |\n",
    "| :-------------------------: | ------------------------------------------------------------ |\n",
    "| <kbd>A</kbd> / <kbd>D</kbd> | Previous / Next Image                                        |\n",
    "|        <kbd>S</kbd>         | Save the current annotion, very important after every image! |\n",
    "|        <kbd>C</kbd>         | Delete the current annotations                               |\n",
    "|    <kbd>Left MBT </kbd>     | Set a marker for foreground                                  |\n",
    "|    <kbd>Right MBT </kbd>    | Set a marker for background                                  |\n",
    "|       <kbd>ESC</kbd>        | Exit the program                                             |"
   ]
  },
  {
   "cell_type": "code",
   "execution_count": 1,
   "metadata": {},
   "outputs": [],
   "source": [
    "import os\n",
    "from utils.watershed_annotator import Watershed_Annotator"
   ]
  },
  {
   "cell_type": "code",
   "execution_count": null,
   "metadata": {},
   "outputs": [],
   "source": [
    "FLAKE_DIRECTORY = \"../demo/images/WSe2\" # Change this to the directory where your images are stored\n",
    "MASK_SAVE_DIRECTORY = \"../demo/instance_masks/WSe2\" # Change this to the directory where you want to save the instance masks\n",
    "os.makedirs(MASK_SAVE_DIRECTORY, exist_ok=True)"
   ]
  },
  {
   "cell_type": "code",
   "execution_count": 6,
   "metadata": {},
   "outputs": [],
   "source": [
    "annotator = Watershed_Annotator(\n",
    "    image_directory=FLAKE_DIRECTORY,\n",
    "    mask_directory=MASK_SAVE_DIRECTORY,\n",
    ")\n",
    "annotator.run()"
   ]
  }
 ],
 "metadata": {
  "kernelspec": {
   "display_name": "maskterial",
   "language": "python",
   "name": "python3"
  },
  "language_info": {
   "codemirror_mode": {
    "name": "ipython",
    "version": 3
   },
   "file_extension": ".py",
   "mimetype": "text/x-python",
   "name": "python",
   "nbconvert_exporter": "python",
   "pygments_lexer": "ipython3",
   "version": "3.12.11"
  }
 },
 "nbformat": 4,
 "nbformat_minor": 2
}
